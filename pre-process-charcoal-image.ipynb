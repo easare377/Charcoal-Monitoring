{
 "cells": [
  {
   "cell_type": "code",
   "execution_count": 6,
   "metadata": {},
   "outputs": [],
   "source": [
    "from keras.utils import np_utils\n",
    "import numpy as np\n",
    "import tensorflow as tf\n",
    "import os\n",
    "from PIL import Image\n",
    "from PIL import ImageFilter\n",
    "import image_utils as iu\n",
    "import uuid\n",
    "from shutil import copy2"
   ]
  },
  {
   "cell_type": "code",
   "execution_count": 7,
   "metadata": {},
   "outputs": [],
   "source": [
    "data_path = 'data'\n",
    "object_detection_path = os.path.join(data_path, 'object-detection')\n",
    "# segmentation_path = os.path.join(data_path, 'segmentation')\n",
    "#Mining 1 contains satellite images from Google Earth taken with screenshots.\n",
    "# mining_path = os.path.join(segmentation_path, 'mining')\n",
    "# divided images\n",
    "object_detection_original_data_path = os.path.join(object_detection_path, 'object-detection-original')\n",
    "# mining_real_divided_data_path = os.path.join(mining_divided_data_path, 'real')\n",
    "# mining_mask_divided_data_path = os.path.join(mining_divided_data_path, 'mask')\n",
    "# classification images\n",
    "object_detection_divided_data_path = os.path.join(\n",
    "    object_detection_path, 'object-detection-divided')\n",
    "# mining_site_divided_path = os.path.join(\n",
    "#     classification_divided_data_path, 'mining-site')\n",
    "# others_divided_path = os.path.join(classification_divided_data_path, 'others')\n",
    "# #\n",
    "# classification_final_data_path = os.path.join(\n",
    "#     classification_path, 'classification-final')\n",
    "# mining_site_final_path = os.path.join(\n",
    "#     classification_final_data_path,  'mining-site')\n",
    "# others_final_data_path = os.path.join(classification_final_data_path, 'others')\n",
    "#train\n",
    "# training_path = os.path.join(classification_path, 'training')\n",
    "# train_path = os.path.join(training_path, 'train')\n",
    "# train_mining_site_path = os.path.join(train_path, 'mining-site')\n",
    "# train_others_path = os.path.join(train_path, 'others')\n",
    "# #val\n",
    "# val_path = os.path.join(training_path, 'val')\n",
    "# val_mining_site_path = os.path.join(val_path, 'mining-site')\n",
    "# val_others_path = os.path.join(val_path, 'others')\n"
   ]
  },
  {
   "cell_type": "code",
   "execution_count": 12,
   "metadata": {},
   "outputs": [],
   "source": [
    "charcoal_images_path = iu.get_all_files(\n",
    "    object_detection_original_data_path, True)\n"
   ]
  },
  {
   "cell_type": "code",
   "execution_count": 9,
   "metadata": {},
   "outputs": [],
   "source": [
    "# Splits image into specified rows and columns\n",
    "def split_image(image, row_count, col_count):\n",
    "    parts = []\n",
    "    width, height = image.size\n",
    "    left = 0\n",
    "    top = 0\n",
    "    right = width / col_count\n",
    "    bottom = height / row_count\n",
    "    for r in range(row_count):\n",
    "        top = int(r * (height / row_count))\n",
    "        bottom = int(top + (height / row_count))\n",
    "        for c in range(col_count):\n",
    "            left = int(c * (width / col_count))\n",
    "            right = int(left + (width / col_count))\n",
    "            part = image.crop((left, top, right, bottom))\n",
    "            parts.append(part)\n",
    "    return parts"
   ]
  },
  {
   "cell_type": "code",
   "execution_count": 14,
   "metadata": {},
   "outputs": [],
   "source": [
    "# images are divided into 9 parts and saved on disk.\n",
    "# This reduces the dimension of the images and also increases the training data.\n",
    "iu.create_dir_if_not_exists(object_detection_divided_data_path)\n",
    "for charcoal_image in charcoal_images_path:\n",
    "    row_count = 25\n",
    "    col_count = 12\n",
    "    row_count = 8\n",
    "    col_count = 4\n",
    "    row_count = 8\n",
    "    col_count = 12\n",
    "    part_count = col_count * row_count\n",
    "    real_image = iu.read_image(charcoal_image, 'RGB')\n",
    "    real_image_parts = split_image(real_image, row_count, col_count)\n",
    "    count = 0\n",
    "    for x in range(part_count):\n",
    "        # part_filename = str(uuid.uuid4()) + '.jpg'\n",
    "        part_filename = str(count) + '.jpg'\n",
    "        real_image_part = real_image_parts[x]\n",
    "        real_image_part.save(os.path.join(\n",
    "            object_detection_divided_data_path, part_filename))\n",
    "        count = count + 1\n"
   ]
  }
 ],
 "metadata": {
  "kernelspec": {
   "display_name": "ml-env",
   "language": "python",
   "name": "ml-env"
  },
  "language_info": {
   "codemirror_mode": {
    "name": "ipython",
    "version": 3
   },
   "file_extension": ".py",
   "mimetype": "text/x-python",
   "name": "python",
   "nbconvert_exporter": "python",
   "pygments_lexer": "ipython3",
   "version": "3.8.13"
  },
  "orig_nbformat": 4
 },
 "nbformat": 4,
 "nbformat_minor": 2
}
